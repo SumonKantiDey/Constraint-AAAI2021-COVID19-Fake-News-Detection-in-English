{
 "cells": [
  {
   "cell_type": "code",
   "execution_count": 1,
   "metadata": {
    "colab": {
     "base_uri": "https://localhost:8080/"
    },
    "executionInfo": {
     "elapsed": 35363,
     "status": "ok",
     "timestamp": 1607546972774,
     "user": {
      "displayName": "Sumon Kanti Dey",
      "photoUrl": "https://lh3.googleusercontent.com/a-/AOh14GjeKy4i8ax1KOVpgZGOlH_p_tgZ27lB8lIJ5KTcoA=s64",
      "userId": "02609177644539095397"
     },
     "user_tz": -480
    },
    "id": "7a33UZJwbamv",
    "outputId": "e42872b8-aeda-4da7-8b39-977dc98e42ae"
   },
   "outputs": [
    {
     "name": "stdout",
     "output_type": "stream",
     "text": [
      "Mounted at /content/drive\n"
     ]
    }
   ],
   "source": [
    "import pandas as pd\n",
    "import sys\n",
    "import json\n",
    "from google.colab import drive\n",
    "import re\n",
    "# split the data into train and validation\n",
    "from sklearn.model_selection import train_test_split\n",
    "import warnings\n",
    "from collections import Counter\n",
    "warnings.filterwarnings(\"ignore\")\n",
    "drive.mount('/content/drive')"
   ]
  },
  {
   "cell_type": "code",
   "execution_count": 30,
   "metadata": {
    "colab": {
     "base_uri": "https://localhost:8080/",
     "height": 206
    },
    "executionInfo": {
     "elapsed": 1253,
     "status": "ok",
     "timestamp": 1607548825663,
     "user": {
      "displayName": "Sumon Kanti Dey",
      "photoUrl": "https://lh3.googleusercontent.com/a-/AOh14GjeKy4i8ax1KOVpgZGOlH_p_tgZ27lB8lIJ5KTcoA=s64",
      "userId": "02609177644539095397"
     },
     "user_tz": -480
    },
    "id": "7Jt1VtKebmK-",
    "outputId": "76ab72d3-7e86-481c-9462-2a984f14511c"
   },
   "outputs": [
    {
     "data": {
      "text/html": [
       "<div>\n",
       "<style scoped>\n",
       "    .dataframe tbody tr th:only-of-type {\n",
       "        vertical-align: middle;\n",
       "    }\n",
       "\n",
       "    .dataframe tbody tr th {\n",
       "        vertical-align: top;\n",
       "    }\n",
       "\n",
       "    .dataframe thead th {\n",
       "        text-align: right;\n",
       "    }\n",
       "</style>\n",
       "<table border=\"1\" class=\"dataframe\">\n",
       "  <thead>\n",
       "    <tr style=\"text-align: right;\">\n",
       "      <th></th>\n",
       "      <th>id</th>\n",
       "      <th>tweet</th>\n",
       "      <th>y_pred</th>\n",
       "    </tr>\n",
       "  </thead>\n",
       "  <tbody>\n",
       "    <tr>\n",
       "      <th>2135</th>\n",
       "      <td>2136</td>\n",
       "      <td>#CoronaVirusUpdates: State-wise details of Tot...</td>\n",
       "      <td>0.0</td>\n",
       "    </tr>\n",
       "    <tr>\n",
       "      <th>2136</th>\n",
       "      <td>2137</td>\n",
       "      <td>Tonight 12(midnight) onwards Disaster Manageme...</td>\n",
       "      <td>1.0</td>\n",
       "    </tr>\n",
       "    <tr>\n",
       "      <th>2137</th>\n",
       "      <td>2138</td>\n",
       "      <td>296 new cases of #COVID19Nigeria; Plateau-85 E...</td>\n",
       "      <td>0.0</td>\n",
       "    </tr>\n",
       "    <tr>\n",
       "      <th>2138</th>\n",
       "      <td>2139</td>\n",
       "      <td>RT @CDCemergency: #DYK? @CDCgov’s One-Stop Sho...</td>\n",
       "      <td>0.0</td>\n",
       "    </tr>\n",
       "    <tr>\n",
       "      <th>2139</th>\n",
       "      <td>2140</td>\n",
       "      <td>More than half of pregnant women recently admi...</td>\n",
       "      <td>1.0</td>\n",
       "    </tr>\n",
       "  </tbody>\n",
       "</table>\n",
       "</div>"
      ],
      "text/plain": [
       "        id                                              tweet  y_pred\n",
       "2135  2136  #CoronaVirusUpdates: State-wise details of Tot...     0.0\n",
       "2136  2137  Tonight 12(midnight) onwards Disaster Manageme...     1.0\n",
       "2137  2138  296 new cases of #COVID19Nigeria; Plateau-85 E...     0.0\n",
       "2138  2139  RT @CDCemergency: #DYK? @CDCgov’s One-Stop Sho...     0.0\n",
       "2139  2140  More than half of pregnant women recently admi...     1.0"
      ]
     },
     "execution_count": 30,
     "metadata": {
      "tags": []
     },
     "output_type": "execute_result"
    }
   ],
   "source": [
    "path = \"/content/drive/MyDrive/COVID19 Fake News Detection in English/\"\n",
    "bert_path = path + \"bert-large-uncased/output/\"\n",
    "covid_bert_path = path + \"covid-twitter-bert/output/\"\n",
    "roberta_path = path + \"roberta-large/output/\"\n",
    "\n",
    "bert_df = pd.read_csv(f\"{bert_path}bert_large_two_train_16_2e5.csv\")\n",
    "roberta_df = pd.read_csv(f\"{roberta_path}roberta_large_four_train_16_2e5.csv\")\n",
    "biobert_df = pd.read_csv(f\"{covid_bert_path}bio_bert_two_train_16_3e5.csv\")\n",
    "covid_bert_df = pd.read_csv(f\"{covid_bert_path}covid_bert_two_train_16_3e5.csv\")\n",
    "sci_bert_df = pd.read_csv(f\"{covid_bert_path}sci_bert_two_train_32_3e5.csv\")\n",
    "sci_bert_df.tail()"
   ]
  },
  {
   "cell_type": "code",
   "execution_count": 31,
   "metadata": {
    "executionInfo": {
     "elapsed": 826,
     "status": "ok",
     "timestamp": 1607548827358,
     "user": {
      "displayName": "Sumon Kanti Dey",
      "photoUrl": "https://lh3.googleusercontent.com/a-/AOh14GjeKy4i8ax1KOVpgZGOlH_p_tgZ27lB8lIJ5KTcoA=s64",
      "userId": "02609177644539095397"
     },
     "user_tz": -480
    },
    "id": "LFr5TauodM81"
   },
   "outputs": [],
   "source": [
    "index = []\n",
    "target = []\n",
    "bert_pred  = []\n",
    "roberta_pred = []\n",
    "biobert_pred = []\n",
    "covid_bert_pred = []\n",
    "sci_bert_pred = []\n",
    "for _id in range(len(bert_df)):\n",
    "  index.append(bert_df['id'][_id])  \n",
    "  bert_pred.append(bert_df['y_pred'][_id])\n",
    "  roberta_pred.append(roberta_df['y_pred'][_id])\n",
    "  biobert_pred.append(biobert_df['y_pred'][_id])\n",
    "  covid_bert_pred.append(covid_bert_df['y_pred'][_id])\n",
    "  sci_bert_pred.append(sci_bert_df['y_pred'][_id])"
   ]
  },
  {
   "cell_type": "markdown",
   "metadata": {
    "id": "sICtVphyUbBP"
   },
   "source": [
    "```\n",
    "Bert large Uncased ************\n",
    "last two hidden bert_large train batch 16  lr = 2e-5\n",
    "F1 Acc: 0.967\n",
    "```\n",
    "\n",
    "```\n",
    "last two hidden covid bert train batch 16 lr = 3e5 ************\n",
    "F1 Acc: 0.98\n",
    "```\n",
    "\n",
    "```\n",
    "last two hidden bio bert train batch 16 lr = 3e5\n",
    "F1 Acc: 0.964\n",
    "```\n",
    "\n",
    "```\n",
    "last two hidden sci bert train batch 32 lr = 3e5 [need to run more than 4 epochs]\n",
    "F1 Acc:  0.958\n",
    "```\n",
    "\n",
    "```\n",
    "last four roberta large train batch 16 lr 2e5 *************\n",
    "accuracy 0.973\n",
    "```\n",
    "\n"
   ]
  },
  {
   "cell_type": "code",
   "execution_count": 32,
   "metadata": {
    "executionInfo": {
     "elapsed": 1082,
     "status": "ok",
     "timestamp": 1607548829875,
     "user": {
      "displayName": "Sumon Kanti Dey",
      "photoUrl": "https://lh3.googleusercontent.com/a-/AOh14GjeKy4i8ax1KOVpgZGOlH_p_tgZ27lB8lIJ5KTcoA=s64",
      "userId": "02609177644539095397"
     },
     "user_tz": -480
    },
    "id": "je-aUIkBe8eR"
   },
   "outputs": [],
   "source": [
    "mx_vote_df = pd.DataFrame()\n",
    "mx_vote_df['id'] = index\n",
    "mx_vote_df['bert'] = bert_pred\n",
    "mx_vote_df['roberta'] = roberta_pred\n",
    "#mx_vote_df['biobert'] = biobert_pred\n",
    "mx_vote_df['covid_bert'] = covid_bert_pred\n",
    "#mx_vote_df['sci_bert'] = sci_bert_pred"
   ]
  },
  {
   "cell_type": "code",
   "execution_count": 33,
   "metadata": {
    "colab": {
     "base_uri": "https://localhost:8080/",
     "height": 424
    },
    "executionInfo": {
     "elapsed": 728,
     "status": "ok",
     "timestamp": 1607548831754,
     "user": {
      "displayName": "Sumon Kanti Dey",
      "photoUrl": "https://lh3.googleusercontent.com/a-/AOh14GjeKy4i8ax1KOVpgZGOlH_p_tgZ27lB8lIJ5KTcoA=s64",
      "userId": "02609177644539095397"
     },
     "user_tz": -480
    },
    "id": "GxqEO82Lgt88",
    "outputId": "d43d0141-b227-45a7-c97e-1b731e3b60ff"
   },
   "outputs": [
    {
     "data": {
      "text/html": [
       "<div>\n",
       "<style scoped>\n",
       "    .dataframe tbody tr th:only-of-type {\n",
       "        vertical-align: middle;\n",
       "    }\n",
       "\n",
       "    .dataframe tbody tr th {\n",
       "        vertical-align: top;\n",
       "    }\n",
       "\n",
       "    .dataframe thead th {\n",
       "        text-align: right;\n",
       "    }\n",
       "</style>\n",
       "<table border=\"1\" class=\"dataframe\">\n",
       "  <thead>\n",
       "    <tr style=\"text-align: right;\">\n",
       "      <th></th>\n",
       "      <th>id</th>\n",
       "      <th>bert</th>\n",
       "      <th>roberta</th>\n",
       "      <th>covid_bert</th>\n",
       "    </tr>\n",
       "  </thead>\n",
       "  <tbody>\n",
       "    <tr>\n",
       "      <th>0</th>\n",
       "      <td>1</td>\n",
       "      <td>0.0</td>\n",
       "      <td>0.0</td>\n",
       "      <td>0.0</td>\n",
       "    </tr>\n",
       "    <tr>\n",
       "      <th>1</th>\n",
       "      <td>2</td>\n",
       "      <td>1.0</td>\n",
       "      <td>1.0</td>\n",
       "      <td>1.0</td>\n",
       "    </tr>\n",
       "    <tr>\n",
       "      <th>2</th>\n",
       "      <td>3</td>\n",
       "      <td>1.0</td>\n",
       "      <td>1.0</td>\n",
       "      <td>1.0</td>\n",
       "    </tr>\n",
       "    <tr>\n",
       "      <th>3</th>\n",
       "      <td>4</td>\n",
       "      <td>0.0</td>\n",
       "      <td>0.0</td>\n",
       "      <td>0.0</td>\n",
       "    </tr>\n",
       "    <tr>\n",
       "      <th>4</th>\n",
       "      <td>5</td>\n",
       "      <td>0.0</td>\n",
       "      <td>0.0</td>\n",
       "      <td>0.0</td>\n",
       "    </tr>\n",
       "    <tr>\n",
       "      <th>...</th>\n",
       "      <td>...</td>\n",
       "      <td>...</td>\n",
       "      <td>...</td>\n",
       "      <td>...</td>\n",
       "    </tr>\n",
       "    <tr>\n",
       "      <th>2135</th>\n",
       "      <td>2136</td>\n",
       "      <td>0.0</td>\n",
       "      <td>0.0</td>\n",
       "      <td>0.0</td>\n",
       "    </tr>\n",
       "    <tr>\n",
       "      <th>2136</th>\n",
       "      <td>2137</td>\n",
       "      <td>1.0</td>\n",
       "      <td>1.0</td>\n",
       "      <td>1.0</td>\n",
       "    </tr>\n",
       "    <tr>\n",
       "      <th>2137</th>\n",
       "      <td>2138</td>\n",
       "      <td>0.0</td>\n",
       "      <td>0.0</td>\n",
       "      <td>0.0</td>\n",
       "    </tr>\n",
       "    <tr>\n",
       "      <th>2138</th>\n",
       "      <td>2139</td>\n",
       "      <td>0.0</td>\n",
       "      <td>0.0</td>\n",
       "      <td>0.0</td>\n",
       "    </tr>\n",
       "    <tr>\n",
       "      <th>2139</th>\n",
       "      <td>2140</td>\n",
       "      <td>0.0</td>\n",
       "      <td>0.0</td>\n",
       "      <td>0.0</td>\n",
       "    </tr>\n",
       "  </tbody>\n",
       "</table>\n",
       "<p>2140 rows × 4 columns</p>\n",
       "</div>"
      ],
      "text/plain": [
       "        id  bert  roberta  covid_bert\n",
       "0        1   0.0      0.0         0.0\n",
       "1        2   1.0      1.0         1.0\n",
       "2        3   1.0      1.0         1.0\n",
       "3        4   0.0      0.0         0.0\n",
       "4        5   0.0      0.0         0.0\n",
       "...    ...   ...      ...         ...\n",
       "2135  2136   0.0      0.0         0.0\n",
       "2136  2137   1.0      1.0         1.0\n",
       "2137  2138   0.0      0.0         0.0\n",
       "2138  2139   0.0      0.0         0.0\n",
       "2139  2140   0.0      0.0         0.0\n",
       "\n",
       "[2140 rows x 4 columns]"
      ]
     },
     "execution_count": 33,
     "metadata": {
      "tags": []
     },
     "output_type": "execute_result"
    }
   ],
   "source": [
    "mx_vote_df"
   ]
  },
  {
   "cell_type": "code",
   "execution_count": 34,
   "metadata": {
    "colab": {
     "base_uri": "https://localhost:8080/"
    },
    "executionInfo": {
     "elapsed": 812,
     "status": "ok",
     "timestamp": 1607548833337,
     "user": {
      "displayName": "Sumon Kanti Dey",
      "photoUrl": "https://lh3.googleusercontent.com/a-/AOh14GjeKy4i8ax1KOVpgZGOlH_p_tgZ27lB8lIJ5KTcoA=s64",
      "userId": "02609177644539095397"
     },
     "user_tz": -480
    },
    "id": "dO_QlVoTxGVr",
    "outputId": "f88503a6-afde-40e5-8921-33e279e8b7c1"
   },
   "outputs": [
    {
     "name": "stdout",
     "output_type": "stream",
     "text": [
      "bert = \n",
      " 0.0    1132\n",
      "1.0    1008\n",
      "Name: y_pred, dtype: int64\n",
      "roberta = \n",
      " 0.0    1098\n",
      "1.0    1042\n",
      "Name: y_pred, dtype: int64\n",
      "covid_bert = \n",
      " 0.0    1124\n",
      "1.0    1016\n",
      "Name: y_pred, dtype: int64\n"
     ]
    }
   ],
   "source": [
    "print(\"bert = \\n\", bert_df.y_pred.value_counts())\n",
    "print(\"roberta = \\n\", roberta_df.y_pred.value_counts())\n",
    "#print(\"bio-bert = \\n\", biobert_df.y_pred.value_counts())\n",
    "print(\"covid_bert = \\n\", covid_bert_df.y_pred.value_counts())\n",
    "#print(\"sci-bert = \\n\", sci_bert_df.y_pred.value_counts())"
   ]
  },
  {
   "cell_type": "code",
   "execution_count": 35,
   "metadata": {
    "colab": {
     "base_uri": "https://localhost:8080/"
    },
    "executionInfo": {
     "elapsed": 720,
     "status": "ok",
     "timestamp": 1607548835157,
     "user": {
      "displayName": "Sumon Kanti Dey",
      "photoUrl": "https://lh3.googleusercontent.com/a-/AOh14GjeKy4i8ax1KOVpgZGOlH_p_tgZ27lB8lIJ5KTcoA=s64",
      "userId": "02609177644539095397"
     },
     "user_tz": -480
    },
    "id": "cuYi3TiTxR_n",
    "outputId": "ceefb699-74a1-4581-9008-b2e61748143c"
   },
   "outputs": [
    {
     "name": "stdout",
     "output_type": "stream",
     "text": [
      "voting bert = \n",
      " 0.0    1132\n",
      "1.0    1008\n",
      "Name: bert, dtype: int64\n",
      "voting roberta = \n",
      " 0.0    1098\n",
      "1.0    1042\n",
      "Name: roberta, dtype: int64\n",
      "voting covid_bert = \n",
      " 0.0    1124\n",
      "1.0    1016\n",
      "Name: covid_bert, dtype: int64\n"
     ]
    }
   ],
   "source": [
    "print(\"voting bert = \\n\", mx_vote_df.bert.value_counts())\n",
    "print(\"voting roberta = \\n\", mx_vote_df.roberta.value_counts())\n",
    "#print(\"voting bio-bert = \\n\", mx_vote_df.biobert.value_counts())\n",
    "print(\"voting covid_bert = \\n\",mx_vote_df.covid_bert.value_counts())\n",
    "#print(\"voting sci-bert = \\n\", mx_vote_df.sci_bert.value_counts())"
   ]
  },
  {
   "cell_type": "code",
   "execution_count": 36,
   "metadata": {
    "executionInfo": {
     "elapsed": 1085,
     "status": "ok",
     "timestamp": 1607548842646,
     "user": {
      "displayName": "Sumon Kanti Dey",
      "photoUrl": "https://lh3.googleusercontent.com/a-/AOh14GjeKy4i8ax1KOVpgZGOlH_p_tgZ27lB8lIJ5KTcoA=s64",
      "userId": "02609177644539095397"
     },
     "user_tz": -480
    },
    "id": "5vicehxFxenu"
   },
   "outputs": [],
   "source": [
    "preds = []\n",
    "for index in range(len(mx_vote_df)):\n",
    "  values = mx_vote_df.iloc[index].values[1:]\n",
    "  sorted_x = sorted(Counter(values).items(), key=lambda kv: kv[1],reverse=True)\n",
    "  preds.append(sorted_x[0][0])\n",
    "mx_vote_df['preds'] = preds"
   ]
  },
  {
   "cell_type": "code",
   "execution_count": 37,
   "metadata": {
    "colab": {
     "base_uri": "https://localhost:8080/",
     "height": 424
    },
    "executionInfo": {
     "elapsed": 1096,
     "status": "ok",
     "timestamp": 1607548844328,
     "user": {
      "displayName": "Sumon Kanti Dey",
      "photoUrl": "https://lh3.googleusercontent.com/a-/AOh14GjeKy4i8ax1KOVpgZGOlH_p_tgZ27lB8lIJ5KTcoA=s64",
      "userId": "02609177644539095397"
     },
     "user_tz": -480
    },
    "id": "kCxq4yIlzfvK",
    "outputId": "bbe73502-ea2f-4de6-89cd-c34e9c659eea"
   },
   "outputs": [
    {
     "data": {
      "text/html": [
       "<div>\n",
       "<style scoped>\n",
       "    .dataframe tbody tr th:only-of-type {\n",
       "        vertical-align: middle;\n",
       "    }\n",
       "\n",
       "    .dataframe tbody tr th {\n",
       "        vertical-align: top;\n",
       "    }\n",
       "\n",
       "    .dataframe thead th {\n",
       "        text-align: right;\n",
       "    }\n",
       "</style>\n",
       "<table border=\"1\" class=\"dataframe\">\n",
       "  <thead>\n",
       "    <tr style=\"text-align: right;\">\n",
       "      <th></th>\n",
       "      <th>id</th>\n",
       "      <th>bert</th>\n",
       "      <th>roberta</th>\n",
       "      <th>covid_bert</th>\n",
       "      <th>preds</th>\n",
       "    </tr>\n",
       "  </thead>\n",
       "  <tbody>\n",
       "    <tr>\n",
       "      <th>0</th>\n",
       "      <td>1</td>\n",
       "      <td>0.0</td>\n",
       "      <td>0.0</td>\n",
       "      <td>0.0</td>\n",
       "      <td>0.0</td>\n",
       "    </tr>\n",
       "    <tr>\n",
       "      <th>1</th>\n",
       "      <td>2</td>\n",
       "      <td>1.0</td>\n",
       "      <td>1.0</td>\n",
       "      <td>1.0</td>\n",
       "      <td>1.0</td>\n",
       "    </tr>\n",
       "    <tr>\n",
       "      <th>2</th>\n",
       "      <td>3</td>\n",
       "      <td>1.0</td>\n",
       "      <td>1.0</td>\n",
       "      <td>1.0</td>\n",
       "      <td>1.0</td>\n",
       "    </tr>\n",
       "    <tr>\n",
       "      <th>3</th>\n",
       "      <td>4</td>\n",
       "      <td>0.0</td>\n",
       "      <td>0.0</td>\n",
       "      <td>0.0</td>\n",
       "      <td>0.0</td>\n",
       "    </tr>\n",
       "    <tr>\n",
       "      <th>4</th>\n",
       "      <td>5</td>\n",
       "      <td>0.0</td>\n",
       "      <td>0.0</td>\n",
       "      <td>0.0</td>\n",
       "      <td>0.0</td>\n",
       "    </tr>\n",
       "    <tr>\n",
       "      <th>...</th>\n",
       "      <td>...</td>\n",
       "      <td>...</td>\n",
       "      <td>...</td>\n",
       "      <td>...</td>\n",
       "      <td>...</td>\n",
       "    </tr>\n",
       "    <tr>\n",
       "      <th>2135</th>\n",
       "      <td>2136</td>\n",
       "      <td>0.0</td>\n",
       "      <td>0.0</td>\n",
       "      <td>0.0</td>\n",
       "      <td>0.0</td>\n",
       "    </tr>\n",
       "    <tr>\n",
       "      <th>2136</th>\n",
       "      <td>2137</td>\n",
       "      <td>1.0</td>\n",
       "      <td>1.0</td>\n",
       "      <td>1.0</td>\n",
       "      <td>1.0</td>\n",
       "    </tr>\n",
       "    <tr>\n",
       "      <th>2137</th>\n",
       "      <td>2138</td>\n",
       "      <td>0.0</td>\n",
       "      <td>0.0</td>\n",
       "      <td>0.0</td>\n",
       "      <td>0.0</td>\n",
       "    </tr>\n",
       "    <tr>\n",
       "      <th>2138</th>\n",
       "      <td>2139</td>\n",
       "      <td>0.0</td>\n",
       "      <td>0.0</td>\n",
       "      <td>0.0</td>\n",
       "      <td>0.0</td>\n",
       "    </tr>\n",
       "    <tr>\n",
       "      <th>2139</th>\n",
       "      <td>2140</td>\n",
       "      <td>0.0</td>\n",
       "      <td>0.0</td>\n",
       "      <td>0.0</td>\n",
       "      <td>0.0</td>\n",
       "    </tr>\n",
       "  </tbody>\n",
       "</table>\n",
       "<p>2140 rows × 5 columns</p>\n",
       "</div>"
      ],
      "text/plain": [
       "        id  bert  roberta  covid_bert  preds\n",
       "0        1   0.0      0.0         0.0    0.0\n",
       "1        2   1.0      1.0         1.0    1.0\n",
       "2        3   1.0      1.0         1.0    1.0\n",
       "3        4   0.0      0.0         0.0    0.0\n",
       "4        5   0.0      0.0         0.0    0.0\n",
       "...    ...   ...      ...         ...    ...\n",
       "2135  2136   0.0      0.0         0.0    0.0\n",
       "2136  2137   1.0      1.0         1.0    1.0\n",
       "2137  2138   0.0      0.0         0.0    0.0\n",
       "2138  2139   0.0      0.0         0.0    0.0\n",
       "2139  2140   0.0      0.0         0.0    0.0\n",
       "\n",
       "[2140 rows x 5 columns]"
      ]
     },
     "execution_count": 37,
     "metadata": {
      "tags": []
     },
     "output_type": "execute_result"
    }
   ],
   "source": [
    "mx_vote_df"
   ]
  },
  {
   "cell_type": "code",
   "execution_count": 38,
   "metadata": {
    "colab": {
     "base_uri": "https://localhost:8080/"
    },
    "executionInfo": {
     "elapsed": 1220,
     "status": "ok",
     "timestamp": 1607548846561,
     "user": {
      "displayName": "Sumon Kanti Dey",
      "photoUrl": "https://lh3.googleusercontent.com/a-/AOh14GjeKy4i8ax1KOVpgZGOlH_p_tgZ27lB8lIJ5KTcoA=s64",
      "userId": "02609177644539095397"
     },
     "user_tz": -480
    },
    "id": "h17h6RBbzhfx",
    "outputId": "3005c0ea-4431-46b2-c578-0fc52912a2ec"
   },
   "outputs": [
    {
     "name": "stdout",
     "output_type": "stream",
     "text": [
      "voting bert = \n",
      " 0.0    1132\n",
      "1.0    1008\n",
      "Name: bert, dtype: int64\n",
      "voting roberta = \n",
      " 0.0    1098\n",
      "1.0    1042\n",
      "Name: roberta, dtype: int64\n",
      "voting covid_bert = \n",
      " 0.0    1124\n",
      "1.0    1016\n",
      "Name: covid_bert, dtype: int64\n",
      "voting prediction count = \n",
      " 0.0    1116\n",
      "1.0    1024\n",
      "Name: preds, dtype: int64\n"
     ]
    }
   ],
   "source": [
    "print(\"voting bert = \\n\", mx_vote_df.bert.value_counts())\n",
    "print(\"voting roberta = \\n\", mx_vote_df.roberta.value_counts())\n",
    "print(\"voting covid_bert = \\n\",mx_vote_df.covid_bert.value_counts())\n",
    "print(\"voting prediction count = \\n\", mx_vote_df.preds.value_counts())"
   ]
  },
  {
   "cell_type": "code",
   "execution_count": 42,
   "metadata": {
    "executionInfo": {
     "elapsed": 1544,
     "status": "ok",
     "timestamp": 1607548928561,
     "user": {
      "displayName": "Sumon Kanti Dey",
      "photoUrl": "https://lh3.googleusercontent.com/a-/AOh14GjeKy4i8ax1KOVpgZGOlH_p_tgZ27lB8lIJ5KTcoA=s64",
      "userId": "02609177644539095397"
     },
     "user_tz": -480
    },
    "id": "FWZhnm7I66fC"
   },
   "outputs": [],
   "source": [
    "path = '/content/drive/MyDrive/COVID19 Fake News Detection in English/input/'\n",
    "sub_df = mx_vote_df[['id','preds']]\n",
    "for i in range(len(sub_df)):\n",
    "  if sub_df['preds'][i] == 1:\n",
    "    sub_df.at[i,'label'] =  'fake'\n",
    "  else:\n",
    "    sub_df.at[i,'label'] =  'real'\n",
    "sub_df = sub_df[['id','label']]\n",
    "new_path = path+'answer.txt'\n",
    "sub_df.to_csv(new_path, index=None, sep=',', mode='a')"
   ]
  },
  {
   "cell_type": "code",
   "execution_count": 43,
   "metadata": {
    "colab": {
     "base_uri": "https://localhost:8080/"
    },
    "executionInfo": {
     "elapsed": 1132,
     "status": "ok",
     "timestamp": 1607548931273,
     "user": {
      "displayName": "Sumon Kanti Dey",
      "photoUrl": "https://lh3.googleusercontent.com/a-/AOh14GjeKy4i8ax1KOVpgZGOlH_p_tgZ27lB8lIJ5KTcoA=s64",
      "userId": "02609177644539095397"
     },
     "user_tz": -480
    },
    "id": "YINvlsTWX58A",
    "outputId": "8183130d-35b5-4647-a9a3-7f47d2d79b1f"
   },
   "outputs": [
    {
     "data": {
      "text/plain": [
       "real    1116\n",
       "fake    1024\n",
       "Name: label, dtype: int64"
      ]
     },
     "execution_count": 43,
     "metadata": {
      "tags": []
     },
     "output_type": "execute_result"
    }
   ],
   "source": [
    "sub_df.label.value_counts()"
   ]
  },
  {
   "cell_type": "code",
   "execution_count": null,
   "metadata": {
    "id": "fHiwbSw5bWnH"
   },
   "outputs": [],
   "source": []
  }
 ],
 "metadata": {
  "colab": {
   "authorship_tag": "ABX9TyNjqO9KRWm+TRMt11/TmTLJ",
   "name": "voting.ipynb",
   "provenance": []
  },
  "kernelspec": {
   "display_name": "Python 3",
   "language": "python",
   "name": "python3"
  },
  "language_info": {
   "codemirror_mode": {
    "name": "ipython",
    "version": 3
   },
   "file_extension": ".py",
   "mimetype": "text/x-python",
   "name": "python",
   "nbconvert_exporter": "python",
   "pygments_lexer": "ipython3",
   "version": "3.8.5"
  }
 },
 "nbformat": 4,
 "nbformat_minor": 1
}
